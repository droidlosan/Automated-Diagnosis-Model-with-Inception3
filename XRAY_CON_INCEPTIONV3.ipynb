{
  "nbformat": 4,
  "nbformat_minor": 0,
  "metadata": {
    "colab": {
      "name": "XRAY_CON_INCEPTIONV3.ipynb",
      "provenance": []
    },
    "kernelspec": {
      "name": "python3",
      "display_name": "Python 3"
    }
  },
  "cells": [
    {
      "cell_type": "code",
      "metadata": {
        "id": "kUuqTXyhECtD",
        "colab_type": "code",
        "colab": {}
      },
      "source": [
        "\n",
        "import pandas as pd \n",
        "import cv2                 \n",
        "import numpy as np         \n",
        "import os                  \n",
        "from random import shuffle\n",
        "from tqdm import tqdm  \n",
        "import scipy\n",
        "import skimage\n",
        "from skimage.transform import resize\n"
      ],
      "execution_count": 0,
      "outputs": []
    },
    {
      "cell_type": "code",
      "metadata": {
        "id": "TZvuviIoETu6",
        "colab_type": "code",
        "colab": {
          "base_uri": "https://localhost:8080/",
          "height": 34
        },
        "outputId": "29b40f8f-105b-43e8-9d7c-129f6ecee6f1"
      },
      "source": [
        "# Carga de archivos desde drive\n",
        "from google.colab import drive\n",
        "drive.mount('drive', force_remount=True)"
      ],
      "execution_count": 45,
      "outputs": [
        {
          "output_type": "stream",
          "text": [
            "Mounted at drive\n"
          ],
          "name": "stdout"
        }
      ]
    },
    {
      "cell_type": "code",
      "metadata": {
        "id": "XrmnwnrfET5S",
        "colab_type": "code",
        "colab": {}
      },
      "source": [
        "TRAIN_DIR = \"/content/drive/My Drive/Colab Notebooks/data_x_ray/train/\"\n",
        "TEST_DIR =  \"/content/drive/My Drive/Colab Notebooks/data_x_ray/test/\""
      ],
      "execution_count": 0,
      "outputs": []
    },
    {
      "cell_type": "code",
      "metadata": {
        "id": "cJm5PxRGEcTq",
        "colab_type": "code",
        "colab": {}
      },
      "source": [
        "def get_label(Dir):\n",
        "    for nextdir in os.listdir(Dir):\n",
        "        if not nextdir.startswith('.'):\n",
        "            if nextdir in ['NORMAL']:\n",
        "                label = 0\n",
        "            elif nextdir in ['PNEUMONIA']:\n",
        "                label = 1\n",
        "            else:\n",
        "                label = 2\n",
        "    return nextdir, label\n",
        "\n"
      ],
      "execution_count": 0,
      "outputs": []
    },
    {
      "cell_type": "code",
      "metadata": {
        "id": "vTuoxkfVEf1i",
        "colab_type": "code",
        "colab": {}
      },
      "source": [
        "def preprocessing_data(Dir):\n",
        "    X = []\n",
        "    y = []\n",
        "    \n",
        "    for nextdir in os.listdir(Dir):\n",
        "        nextdir, label = get_label(Dir)\n",
        "        temp = Dir + nextdir\n",
        "        \n",
        "        for image_filename in tqdm(os.listdir(temp)):\n",
        "            path = os.path.join(temp + '/' , image_filename)\n",
        "            img = cv2.imread(path,cv2.IMREAD_GRAYSCALE)\n",
        "            if img is not None:\n",
        "                img = skimage.transform.resize(img, (150, 150, 3))\n",
        "                img = np.asarray(img)\n",
        "                X.append(img)\n",
        "                y.append(label)\n",
        "            \n",
        "    X = np.asarray(X)\n",
        "    y = np.asarray(y)\n",
        "    \n",
        "    return X,y"
      ],
      "execution_count": 0,
      "outputs": []
    },
    {
      "cell_type": "code",
      "metadata": {
        "id": "vJQ27YF8Ep3D",
        "colab_type": "code",
        "colab": {}
      },
      "source": [
        "def get_data(Dir):\n",
        "    X = []\n",
        "    y = []\n",
        "    for nextDir in os.listdir(Dir):\n",
        "        if not nextDir.startswith('.'):\n",
        "            if nextDir in ['NORMAL']:\n",
        "                label = 0\n",
        "            elif nextDir in ['PNEUMONIA']:\n",
        "                label = 1\n",
        "            else:\n",
        "                label = 2\n",
        "                \n",
        "            temp = Dir + nextDir\n",
        "                \n",
        "            for file in tqdm(os.listdir(temp)):\n",
        "                img = cv2.imread(temp + '/' + file)\n",
        "                if img is not None:\n",
        "                    img = skimage.transform.resize(img, (150, 150, 3))\n",
        "                    #img_file = scipy.misc.imresize(arr=img_file, size=(150, 150, 3))\n",
        "                    img = np.asarray(img)\n",
        "                    X.append(img)\n",
        "                    y.append(label)\n",
        "                    \n",
        "    X = np.asarray(X)\n",
        "    y = np.asarray(y)\n",
        "    return X,y"
      ],
      "execution_count": 0,
      "outputs": []
    },
    {
      "cell_type": "code",
      "metadata": {
        "id": "U0I0tuzJErR3",
        "colab_type": "code",
        "colab": {
          "base_uri": "https://localhost:8080/",
          "height": 50
        },
        "outputId": "e98b9efd-5020-4e2a-e985-47f4c00b25e5"
      },
      "source": [
        "X_train, y_train = get_data(TRAIN_DIR)"
      ],
      "execution_count": 13,
      "outputs": [
        {
          "output_type": "stream",
          "text": [
            "100%|██████████| 3789/3789 [26:50<00:00,  2.30it/s]\n",
            "100%|██████████| 1342/1342 [18:47<00:00,  1.14it/s]\n"
          ],
          "name": "stderr"
        }
      ]
    },
    {
      "cell_type": "code",
      "metadata": {
        "id": "B8Sp7Zx5HXty",
        "colab_type": "code",
        "colab": {
          "base_uri": "https://localhost:8080/",
          "height": 50
        },
        "outputId": "65792e87-942a-4ed3-d7ae-54dccabaf17c"
      },
      "source": [
        "X_test , y_test = get_data(TEST_DIR)"
      ],
      "execution_count": 14,
      "outputs": [
        {
          "output_type": "stream",
          "text": [
            "100%|██████████| 234/234 [03:15<00:00,  1.28it/s]\n",
            "100%|██████████| 390/390 [02:28<00:00,  1.98it/s]\n"
          ],
          "name": "stderr"
        }
      ]
    },
    {
      "cell_type": "code",
      "metadata": {
        "id": "oTEsGdnJHn4q",
        "colab_type": "code",
        "colab": {
          "base_uri": "https://localhost:8080/",
          "height": 50
        },
        "outputId": "e5c5af9e-d097-447c-9feb-1dd3977ca132"
      },
      "source": [
        "print(X_train.shape,'\\n',X_test.shape)"
      ],
      "execution_count": 15,
      "outputs": [
        {
          "output_type": "stream",
          "text": [
            "(5129, 150, 150, 3) \n",
            " (624, 150, 150, 3)\n"
          ],
          "name": "stdout"
        }
      ]
    },
    {
      "cell_type": "code",
      "metadata": {
        "id": "xnkca-xAHpCG",
        "colab_type": "code",
        "colab": {
          "base_uri": "https://localhost:8080/",
          "height": 50
        },
        "outputId": "5bb308f9-caa6-4a79-bc1f-5d52024327f4"
      },
      "source": [
        "print(y_train.shape,'\\n',y_test.shape)"
      ],
      "execution_count": 16,
      "outputs": [
        {
          "output_type": "stream",
          "text": [
            "(5129,) \n",
            " (624,)\n"
          ],
          "name": "stdout"
        }
      ]
    },
    {
      "cell_type": "code",
      "metadata": {
        "id": "PVGhX2mkHzWt",
        "colab_type": "code",
        "colab": {
          "base_uri": "https://localhost:8080/",
          "height": 34
        },
        "outputId": "94b9f987-8a54-4812-b917-3d613608cf82"
      },
      "source": [
        "from keras.utils.np_utils import to_categorical\n",
        "\n",
        "y_train = to_categorical(y_train, 2)\n",
        "y_test = to_categorical(y_test, 2)"
      ],
      "execution_count": 17,
      "outputs": [
        {
          "output_type": "stream",
          "text": [
            "Using TensorFlow backend.\n"
          ],
          "name": "stderr"
        }
      ]
    },
    {
      "cell_type": "code",
      "metadata": {
        "id": "59VHEYE2H2_W",
        "colab_type": "code",
        "colab": {}
      },
      "source": [
        "Pimages = os.listdir(TRAIN_DIR + \"PNEUMONIA\")\n",
        "Nimages = os.listdir(TRAIN_DIR + \"NORMAL\")"
      ],
      "execution_count": 0,
      "outputs": []
    },
    {
      "cell_type": "code",
      "metadata": {
        "id": "x2CmQaO1ILAR",
        "colab_type": "code",
        "colab": {
          "base_uri": "https://localhost:8080/",
          "height": 70
        },
        "outputId": "944d37d5-3d33-4643-c176-1ddfd245c1b4"
      },
      "source": [
        "from keras.callbacks import ReduceLROnPlateau , ModelCheckpoint , LearningRateScheduler\n",
        "lr_reduce = ReduceLROnPlateau(monitor='val_acc', factor=0.1, epsilon=0.0001, patience=1, verbose=1)"
      ],
      "execution_count": 19,
      "outputs": [
        {
          "output_type": "stream",
          "text": [
            "/usr/local/lib/python3.6/dist-packages/keras/callbacks.py:1335: UserWarning: `epsilon` argument is deprecated and will be removed, use `min_delta` instead.\n",
            "  warnings.warn('`epsilon` argument is deprecated and '\n"
          ],
          "name": "stderr"
        }
      ]
    },
    {
      "cell_type": "code",
      "metadata": {
        "id": "jNs-wbqBIQsL",
        "colab_type": "code",
        "colab": {}
      },
      "source": [
        "filepath=\"transferlearning_weights.hdf5\"\n",
        "checkpoint = ModelCheckpoint(filepath, monitor='val_acc', verbose=1, save_best_only=True, mode='max')"
      ],
      "execution_count": 0,
      "outputs": []
    },
    {
      "cell_type": "code",
      "metadata": {
        "id": "4Hj9XwASIT0B",
        "colab_type": "code",
        "colab": {}
      },
      "source": [
        "from keras.models import Sequential , Model\n",
        "from keras.layers import Dense , Activation\n",
        "from keras.layers import Dropout , GlobalAveragePooling2D\n",
        "from keras.layers import Flatten\n",
        "from keras.applications import imagenet_utils\n",
        "from keras.constraints import maxnorm\n",
        "from keras.optimizers import SGD , RMSprop , Adadelta , Adam\n",
        "from keras.layers import Conv2D , BatchNormalization\n",
        "from keras.layers import MaxPooling2D\n",
        "from keras.utils import np_utils\n",
        "from keras import backend as K\n",
        "K.tensorflow_backend.set_image_dim_ordering('th')\n",
        "from sklearn.model_selection import GridSearchCV\n",
        "from keras.wrappers.scikit_learn import KerasClassifier\n",
        "from sklearn.metrics import classification_report"
      ],
      "execution_count": 0,
      "outputs": []
    },
    {
      "cell_type": "code",
      "metadata": {
        "id": "ioiFg6ljUQuc",
        "colab_type": "code",
        "colab": {}
      },
      "source": [
        "# Se guarda unos datos por seguridad para las pruebas\n",
        "X_trainRR=X_train\n",
        "X_testRR=X_test"
      ],
      "execution_count": 0,
      "outputs": []
    },
    {
      "cell_type": "code",
      "metadata": {
        "id": "0oGfuf0YIX2B",
        "colab_type": "code",
        "colab": {}
      },
      "source": [
        "# Se realiza una transformación de las dimensiones de los datos\n",
        "X_train=X_trainRR.reshape(5129,3,150,150)\n",
        "X_test=X_testRR.reshape(624,3,150,150)"
      ],
      "execution_count": 0,
      "outputs": []
    },
    {
      "cell_type": "code",
      "metadata": {
        "id": "bpYm_GxFIcCC",
        "colab_type": "code",
        "colab": {}
      },
      "source": [
        "from keras.applications.inception_v3 import InceptionV3\n",
        "# Se crea nuestro modelo en funcion de las capas de InceptionV3\n",
        "base_model = InceptionV3(weights=None, include_top=False , input_shape=(3,150, 150))"
      ],
      "execution_count": 0,
      "outputs": []
    },
    {
      "cell_type": "code",
      "metadata": {
        "id": "zt0xw_oIIgmO",
        "colab_type": "code",
        "colab": {}
      },
      "source": [
        "x = base_model.output\n",
        "x = Dropout(0.5)(x)\n",
        "x = GlobalAveragePooling2D()(x)\n",
        "x = Dense(128, activation='relu')(x)\n",
        "x = BatchNormalization()(x)\n",
        "predictions = Dense(2, activation='sigmoid')(x)"
      ],
      "execution_count": 0,
      "outputs": []
    },
    {
      "cell_type": "code",
      "metadata": {
        "id": "bUJ2oTB7Ijk1",
        "colab_type": "code",
        "colab": {}
      },
      "source": [
        "# Se cargan los pesos originales de la red InceptionV3\n",
        "base_model.load_weights(\"/content/drive/My Drive/Colab Notebooks/data_x_ray/inception_v3_weights.h5\")"
      ],
      "execution_count": 0,
      "outputs": []
    },
    {
      "cell_type": "code",
      "metadata": {
        "id": "bwWkFSz3IluX",
        "colab_type": "code",
        "colab": {}
      },
      "source": [
        "model = Model(inputs=base_model.input, outputs=predictions)"
      ],
      "execution_count": 0,
      "outputs": []
    },
    {
      "cell_type": "code",
      "metadata": {
        "id": "a8BrowFlIoD2",
        "colab_type": "code",
        "colab": {}
      },
      "source": [
        "model.compile(loss='categorical_crossentropy', \n",
        "                  optimizer='adam', \n",
        "                  metrics=['accuracy'])"
      ],
      "execution_count": 0,
      "outputs": []
    },
    {
      "cell_type": "code",
      "metadata": {
        "id": "qzf2eEioJpuh",
        "colab_type": "code",
        "colab": {
          "base_uri": "https://localhost:8080/",
          "height": 1000
        },
        "outputId": "b999cd8c-ca70-4952-f646-7d5e687e8047"
      },
      "source": [
        "print(model.summary())\n",
        "batch_size = 64\n",
        "epochs = 10"
      ],
      "execution_count": 50,
      "outputs": [
        {
          "output_type": "stream",
          "text": [
            "Model: \"model_2\"\n",
            "__________________________________________________________________________________________________\n",
            "Layer (type)                    Output Shape         Param #     Connected to                     \n",
            "==================================================================================================\n",
            "input_3 (InputLayer)            (None, 3, 150, 150)  0                                            \n",
            "__________________________________________________________________________________________________\n",
            "conv2d_189 (Conv2D)             (None, 32, 74, 74)   864         input_3[0][0]                    \n",
            "__________________________________________________________________________________________________\n",
            "batch_normalization_190 (BatchN (None, 32, 74, 74)   96          conv2d_189[0][0]                 \n",
            "__________________________________________________________________________________________________\n",
            "activation_189 (Activation)     (None, 32, 74, 74)   0           batch_normalization_190[0][0]    \n",
            "__________________________________________________________________________________________________\n",
            "conv2d_190 (Conv2D)             (None, 32, 72, 72)   9216        activation_189[0][0]             \n",
            "__________________________________________________________________________________________________\n",
            "batch_normalization_191 (BatchN (None, 32, 72, 72)   96          conv2d_190[0][0]                 \n",
            "__________________________________________________________________________________________________\n",
            "activation_190 (Activation)     (None, 32, 72, 72)   0           batch_normalization_191[0][0]    \n",
            "__________________________________________________________________________________________________\n",
            "conv2d_191 (Conv2D)             (None, 64, 72, 72)   18432       activation_190[0][0]             \n",
            "__________________________________________________________________________________________________\n",
            "batch_normalization_192 (BatchN (None, 64, 72, 72)   192         conv2d_191[0][0]                 \n",
            "__________________________________________________________________________________________________\n",
            "activation_191 (Activation)     (None, 64, 72, 72)   0           batch_normalization_192[0][0]    \n",
            "__________________________________________________________________________________________________\n",
            "max_pooling2d_9 (MaxPooling2D)  (None, 64, 35, 35)   0           activation_191[0][0]             \n",
            "__________________________________________________________________________________________________\n",
            "conv2d_192 (Conv2D)             (None, 80, 35, 35)   5120        max_pooling2d_9[0][0]            \n",
            "__________________________________________________________________________________________________\n",
            "batch_normalization_193 (BatchN (None, 80, 35, 35)   240         conv2d_192[0][0]                 \n",
            "__________________________________________________________________________________________________\n",
            "activation_192 (Activation)     (None, 80, 35, 35)   0           batch_normalization_193[0][0]    \n",
            "__________________________________________________________________________________________________\n",
            "conv2d_193 (Conv2D)             (None, 192, 33, 33)  138240      activation_192[0][0]             \n",
            "__________________________________________________________________________________________________\n",
            "batch_normalization_194 (BatchN (None, 192, 33, 33)  576         conv2d_193[0][0]                 \n",
            "__________________________________________________________________________________________________\n",
            "activation_193 (Activation)     (None, 192, 33, 33)  0           batch_normalization_194[0][0]    \n",
            "__________________________________________________________________________________________________\n",
            "max_pooling2d_10 (MaxPooling2D) (None, 192, 16, 16)  0           activation_193[0][0]             \n",
            "__________________________________________________________________________________________________\n",
            "conv2d_197 (Conv2D)             (None, 64, 16, 16)   12288       max_pooling2d_10[0][0]           \n",
            "__________________________________________________________________________________________________\n",
            "batch_normalization_198 (BatchN (None, 64, 16, 16)   192         conv2d_197[0][0]                 \n",
            "__________________________________________________________________________________________________\n",
            "activation_197 (Activation)     (None, 64, 16, 16)   0           batch_normalization_198[0][0]    \n",
            "__________________________________________________________________________________________________\n",
            "conv2d_195 (Conv2D)             (None, 48, 16, 16)   9216        max_pooling2d_10[0][0]           \n",
            "__________________________________________________________________________________________________\n",
            "conv2d_198 (Conv2D)             (None, 96, 16, 16)   55296       activation_197[0][0]             \n",
            "__________________________________________________________________________________________________\n",
            "batch_normalization_196 (BatchN (None, 48, 16, 16)   144         conv2d_195[0][0]                 \n",
            "__________________________________________________________________________________________________\n",
            "batch_normalization_199 (BatchN (None, 96, 16, 16)   288         conv2d_198[0][0]                 \n",
            "__________________________________________________________________________________________________\n",
            "activation_195 (Activation)     (None, 48, 16, 16)   0           batch_normalization_196[0][0]    \n",
            "__________________________________________________________________________________________________\n",
            "activation_198 (Activation)     (None, 96, 16, 16)   0           batch_normalization_199[0][0]    \n",
            "__________________________________________________________________________________________________\n",
            "average_pooling2d_19 (AveragePo (None, 192, 16, 16)  0           max_pooling2d_10[0][0]           \n",
            "__________________________________________________________________________________________________\n",
            "conv2d_194 (Conv2D)             (None, 64, 16, 16)   12288       max_pooling2d_10[0][0]           \n",
            "__________________________________________________________________________________________________\n",
            "conv2d_196 (Conv2D)             (None, 64, 16, 16)   76800       activation_195[0][0]             \n",
            "__________________________________________________________________________________________________\n",
            "conv2d_199 (Conv2D)             (None, 96, 16, 16)   82944       activation_198[0][0]             \n",
            "__________________________________________________________________________________________________\n",
            "conv2d_200 (Conv2D)             (None, 32, 16, 16)   6144        average_pooling2d_19[0][0]       \n",
            "__________________________________________________________________________________________________\n",
            "batch_normalization_195 (BatchN (None, 64, 16, 16)   192         conv2d_194[0][0]                 \n",
            "__________________________________________________________________________________________________\n",
            "batch_normalization_197 (BatchN (None, 64, 16, 16)   192         conv2d_196[0][0]                 \n",
            "__________________________________________________________________________________________________\n",
            "batch_normalization_200 (BatchN (None, 96, 16, 16)   288         conv2d_199[0][0]                 \n",
            "__________________________________________________________________________________________________\n",
            "batch_normalization_201 (BatchN (None, 32, 16, 16)   96          conv2d_200[0][0]                 \n",
            "__________________________________________________________________________________________________\n",
            "activation_194 (Activation)     (None, 64, 16, 16)   0           batch_normalization_195[0][0]    \n",
            "__________________________________________________________________________________________________\n",
            "activation_196 (Activation)     (None, 64, 16, 16)   0           batch_normalization_197[0][0]    \n",
            "__________________________________________________________________________________________________\n",
            "activation_199 (Activation)     (None, 96, 16, 16)   0           batch_normalization_200[0][0]    \n",
            "__________________________________________________________________________________________________\n",
            "activation_200 (Activation)     (None, 32, 16, 16)   0           batch_normalization_201[0][0]    \n",
            "__________________________________________________________________________________________________\n",
            "mixed0 (Concatenate)            (None, 256, 16, 16)  0           activation_194[0][0]             \n",
            "                                                                 activation_196[0][0]             \n",
            "                                                                 activation_199[0][0]             \n",
            "                                                                 activation_200[0][0]             \n",
            "__________________________________________________________________________________________________\n",
            "conv2d_204 (Conv2D)             (None, 64, 16, 16)   16384       mixed0[0][0]                     \n",
            "__________________________________________________________________________________________________\n",
            "batch_normalization_205 (BatchN (None, 64, 16, 16)   192         conv2d_204[0][0]                 \n",
            "__________________________________________________________________________________________________\n",
            "activation_204 (Activation)     (None, 64, 16, 16)   0           batch_normalization_205[0][0]    \n",
            "__________________________________________________________________________________________________\n",
            "conv2d_202 (Conv2D)             (None, 48, 16, 16)   12288       mixed0[0][0]                     \n",
            "__________________________________________________________________________________________________\n",
            "conv2d_205 (Conv2D)             (None, 96, 16, 16)   55296       activation_204[0][0]             \n",
            "__________________________________________________________________________________________________\n",
            "batch_normalization_203 (BatchN (None, 48, 16, 16)   144         conv2d_202[0][0]                 \n",
            "__________________________________________________________________________________________________\n",
            "batch_normalization_206 (BatchN (None, 96, 16, 16)   288         conv2d_205[0][0]                 \n",
            "__________________________________________________________________________________________________\n",
            "activation_202 (Activation)     (None, 48, 16, 16)   0           batch_normalization_203[0][0]    \n",
            "__________________________________________________________________________________________________\n",
            "activation_205 (Activation)     (None, 96, 16, 16)   0           batch_normalization_206[0][0]    \n",
            "__________________________________________________________________________________________________\n",
            "average_pooling2d_20 (AveragePo (None, 256, 16, 16)  0           mixed0[0][0]                     \n",
            "__________________________________________________________________________________________________\n",
            "conv2d_201 (Conv2D)             (None, 64, 16, 16)   16384       mixed0[0][0]                     \n",
            "__________________________________________________________________________________________________\n",
            "conv2d_203 (Conv2D)             (None, 64, 16, 16)   76800       activation_202[0][0]             \n",
            "__________________________________________________________________________________________________\n",
            "conv2d_206 (Conv2D)             (None, 96, 16, 16)   82944       activation_205[0][0]             \n",
            "__________________________________________________________________________________________________\n",
            "conv2d_207 (Conv2D)             (None, 64, 16, 16)   16384       average_pooling2d_20[0][0]       \n",
            "__________________________________________________________________________________________________\n",
            "batch_normalization_202 (BatchN (None, 64, 16, 16)   192         conv2d_201[0][0]                 \n",
            "__________________________________________________________________________________________________\n",
            "batch_normalization_204 (BatchN (None, 64, 16, 16)   192         conv2d_203[0][0]                 \n",
            "__________________________________________________________________________________________________\n",
            "batch_normalization_207 (BatchN (None, 96, 16, 16)   288         conv2d_206[0][0]                 \n",
            "__________________________________________________________________________________________________\n",
            "batch_normalization_208 (BatchN (None, 64, 16, 16)   192         conv2d_207[0][0]                 \n",
            "__________________________________________________________________________________________________\n",
            "activation_201 (Activation)     (None, 64, 16, 16)   0           batch_normalization_202[0][0]    \n",
            "__________________________________________________________________________________________________\n",
            "activation_203 (Activation)     (None, 64, 16, 16)   0           batch_normalization_204[0][0]    \n",
            "__________________________________________________________________________________________________\n",
            "activation_206 (Activation)     (None, 96, 16, 16)   0           batch_normalization_207[0][0]    \n",
            "__________________________________________________________________________________________________\n",
            "activation_207 (Activation)     (None, 64, 16, 16)   0           batch_normalization_208[0][0]    \n",
            "__________________________________________________________________________________________________\n",
            "mixed1 (Concatenate)            (None, 288, 16, 16)  0           activation_201[0][0]             \n",
            "                                                                 activation_203[0][0]             \n",
            "                                                                 activation_206[0][0]             \n",
            "                                                                 activation_207[0][0]             \n",
            "__________________________________________________________________________________________________\n",
            "conv2d_211 (Conv2D)             (None, 64, 16, 16)   18432       mixed1[0][0]                     \n",
            "__________________________________________________________________________________________________\n",
            "batch_normalization_212 (BatchN (None, 64, 16, 16)   192         conv2d_211[0][0]                 \n",
            "__________________________________________________________________________________________________\n",
            "activation_211 (Activation)     (None, 64, 16, 16)   0           batch_normalization_212[0][0]    \n",
            "__________________________________________________________________________________________________\n",
            "conv2d_209 (Conv2D)             (None, 48, 16, 16)   13824       mixed1[0][0]                     \n",
            "__________________________________________________________________________________________________\n",
            "conv2d_212 (Conv2D)             (None, 96, 16, 16)   55296       activation_211[0][0]             \n",
            "__________________________________________________________________________________________________\n",
            "batch_normalization_210 (BatchN (None, 48, 16, 16)   144         conv2d_209[0][0]                 \n",
            "__________________________________________________________________________________________________\n",
            "batch_normalization_213 (BatchN (None, 96, 16, 16)   288         conv2d_212[0][0]                 \n",
            "__________________________________________________________________________________________________\n",
            "activation_209 (Activation)     (None, 48, 16, 16)   0           batch_normalization_210[0][0]    \n",
            "__________________________________________________________________________________________________\n",
            "activation_212 (Activation)     (None, 96, 16, 16)   0           batch_normalization_213[0][0]    \n",
            "__________________________________________________________________________________________________\n",
            "average_pooling2d_21 (AveragePo (None, 288, 16, 16)  0           mixed1[0][0]                     \n",
            "__________________________________________________________________________________________________\n",
            "conv2d_208 (Conv2D)             (None, 64, 16, 16)   18432       mixed1[0][0]                     \n",
            "__________________________________________________________________________________________________\n",
            "conv2d_210 (Conv2D)             (None, 64, 16, 16)   76800       activation_209[0][0]             \n",
            "__________________________________________________________________________________________________\n",
            "conv2d_213 (Conv2D)             (None, 96, 16, 16)   82944       activation_212[0][0]             \n",
            "__________________________________________________________________________________________________\n",
            "conv2d_214 (Conv2D)             (None, 64, 16, 16)   18432       average_pooling2d_21[0][0]       \n",
            "__________________________________________________________________________________________________\n",
            "batch_normalization_209 (BatchN (None, 64, 16, 16)   192         conv2d_208[0][0]                 \n",
            "__________________________________________________________________________________________________\n",
            "batch_normalization_211 (BatchN (None, 64, 16, 16)   192         conv2d_210[0][0]                 \n",
            "__________________________________________________________________________________________________\n",
            "batch_normalization_214 (BatchN (None, 96, 16, 16)   288         conv2d_213[0][0]                 \n",
            "__________________________________________________________________________________________________\n",
            "batch_normalization_215 (BatchN (None, 64, 16, 16)   192         conv2d_214[0][0]                 \n",
            "__________________________________________________________________________________________________\n",
            "activation_208 (Activation)     (None, 64, 16, 16)   0           batch_normalization_209[0][0]    \n",
            "__________________________________________________________________________________________________\n",
            "activation_210 (Activation)     (None, 64, 16, 16)   0           batch_normalization_211[0][0]    \n",
            "__________________________________________________________________________________________________\n",
            "activation_213 (Activation)     (None, 96, 16, 16)   0           batch_normalization_214[0][0]    \n",
            "__________________________________________________________________________________________________\n",
            "activation_214 (Activation)     (None, 64, 16, 16)   0           batch_normalization_215[0][0]    \n",
            "__________________________________________________________________________________________________\n",
            "mixed2 (Concatenate)            (None, 288, 16, 16)  0           activation_208[0][0]             \n",
            "                                                                 activation_210[0][0]             \n",
            "                                                                 activation_213[0][0]             \n",
            "                                                                 activation_214[0][0]             \n",
            "__________________________________________________________________________________________________\n",
            "conv2d_216 (Conv2D)             (None, 64, 16, 16)   18432       mixed2[0][0]                     \n",
            "__________________________________________________________________________________________________\n",
            "batch_normalization_217 (BatchN (None, 64, 16, 16)   192         conv2d_216[0][0]                 \n",
            "__________________________________________________________________________________________________\n",
            "activation_216 (Activation)     (None, 64, 16, 16)   0           batch_normalization_217[0][0]    \n",
            "__________________________________________________________________________________________________\n",
            "conv2d_217 (Conv2D)             (None, 96, 16, 16)   55296       activation_216[0][0]             \n",
            "__________________________________________________________________________________________________\n",
            "batch_normalization_218 (BatchN (None, 96, 16, 16)   288         conv2d_217[0][0]                 \n",
            "__________________________________________________________________________________________________\n",
            "activation_217 (Activation)     (None, 96, 16, 16)   0           batch_normalization_218[0][0]    \n",
            "__________________________________________________________________________________________________\n",
            "conv2d_215 (Conv2D)             (None, 384, 7, 7)    995328      mixed2[0][0]                     \n",
            "__________________________________________________________________________________________________\n",
            "conv2d_218 (Conv2D)             (None, 96, 7, 7)     82944       activation_217[0][0]             \n",
            "__________________________________________________________________________________________________\n",
            "batch_normalization_216 (BatchN (None, 384, 7, 7)    1152        conv2d_215[0][0]                 \n",
            "__________________________________________________________________________________________________\n",
            "batch_normalization_219 (BatchN (None, 96, 7, 7)     288         conv2d_218[0][0]                 \n",
            "__________________________________________________________________________________________________\n",
            "activation_215 (Activation)     (None, 384, 7, 7)    0           batch_normalization_216[0][0]    \n",
            "__________________________________________________________________________________________________\n",
            "activation_218 (Activation)     (None, 96, 7, 7)     0           batch_normalization_219[0][0]    \n",
            "__________________________________________________________________________________________________\n",
            "max_pooling2d_11 (MaxPooling2D) (None, 288, 7, 7)    0           mixed2[0][0]                     \n",
            "__________________________________________________________________________________________________\n",
            "mixed3 (Concatenate)            (None, 768, 7, 7)    0           activation_215[0][0]             \n",
            "                                                                 activation_218[0][0]             \n",
            "                                                                 max_pooling2d_11[0][0]           \n",
            "__________________________________________________________________________________________________\n",
            "conv2d_223 (Conv2D)             (None, 128, 7, 7)    98304       mixed3[0][0]                     \n",
            "__________________________________________________________________________________________________\n",
            "batch_normalization_224 (BatchN (None, 128, 7, 7)    384         conv2d_223[0][0]                 \n",
            "__________________________________________________________________________________________________\n",
            "activation_223 (Activation)     (None, 128, 7, 7)    0           batch_normalization_224[0][0]    \n",
            "__________________________________________________________________________________________________\n",
            "conv2d_224 (Conv2D)             (None, 128, 7, 7)    114688      activation_223[0][0]             \n",
            "__________________________________________________________________________________________________\n",
            "batch_normalization_225 (BatchN (None, 128, 7, 7)    384         conv2d_224[0][0]                 \n",
            "__________________________________________________________________________________________________\n",
            "activation_224 (Activation)     (None, 128, 7, 7)    0           batch_normalization_225[0][0]    \n",
            "__________________________________________________________________________________________________\n",
            "conv2d_220 (Conv2D)             (None, 128, 7, 7)    98304       mixed3[0][0]                     \n",
            "__________________________________________________________________________________________________\n",
            "conv2d_225 (Conv2D)             (None, 128, 7, 7)    114688      activation_224[0][0]             \n",
            "__________________________________________________________________________________________________\n",
            "batch_normalization_221 (BatchN (None, 128, 7, 7)    384         conv2d_220[0][0]                 \n",
            "__________________________________________________________________________________________________\n",
            "batch_normalization_226 (BatchN (None, 128, 7, 7)    384         conv2d_225[0][0]                 \n",
            "__________________________________________________________________________________________________\n",
            "activation_220 (Activation)     (None, 128, 7, 7)    0           batch_normalization_221[0][0]    \n",
            "__________________________________________________________________________________________________\n",
            "activation_225 (Activation)     (None, 128, 7, 7)    0           batch_normalization_226[0][0]    \n",
            "__________________________________________________________________________________________________\n",
            "conv2d_221 (Conv2D)             (None, 128, 7, 7)    114688      activation_220[0][0]             \n",
            "__________________________________________________________________________________________________\n",
            "conv2d_226 (Conv2D)             (None, 128, 7, 7)    114688      activation_225[0][0]             \n",
            "__________________________________________________________________________________________________\n",
            "batch_normalization_222 (BatchN (None, 128, 7, 7)    384         conv2d_221[0][0]                 \n",
            "__________________________________________________________________________________________________\n",
            "batch_normalization_227 (BatchN (None, 128, 7, 7)    384         conv2d_226[0][0]                 \n",
            "__________________________________________________________________________________________________\n",
            "activation_221 (Activation)     (None, 128, 7, 7)    0           batch_normalization_222[0][0]    \n",
            "__________________________________________________________________________________________________\n",
            "activation_226 (Activation)     (None, 128, 7, 7)    0           batch_normalization_227[0][0]    \n",
            "__________________________________________________________________________________________________\n",
            "average_pooling2d_22 (AveragePo (None, 768, 7, 7)    0           mixed3[0][0]                     \n",
            "__________________________________________________________________________________________________\n",
            "conv2d_219 (Conv2D)             (None, 192, 7, 7)    147456      mixed3[0][0]                     \n",
            "__________________________________________________________________________________________________\n",
            "conv2d_222 (Conv2D)             (None, 192, 7, 7)    172032      activation_221[0][0]             \n",
            "__________________________________________________________________________________________________\n",
            "conv2d_227 (Conv2D)             (None, 192, 7, 7)    172032      activation_226[0][0]             \n",
            "__________________________________________________________________________________________________\n",
            "conv2d_228 (Conv2D)             (None, 192, 7, 7)    147456      average_pooling2d_22[0][0]       \n",
            "__________________________________________________________________________________________________\n",
            "batch_normalization_220 (BatchN (None, 192, 7, 7)    576         conv2d_219[0][0]                 \n",
            "__________________________________________________________________________________________________\n",
            "batch_normalization_223 (BatchN (None, 192, 7, 7)    576         conv2d_222[0][0]                 \n",
            "__________________________________________________________________________________________________\n",
            "batch_normalization_228 (BatchN (None, 192, 7, 7)    576         conv2d_227[0][0]                 \n",
            "__________________________________________________________________________________________________\n",
            "batch_normalization_229 (BatchN (None, 192, 7, 7)    576         conv2d_228[0][0]                 \n",
            "__________________________________________________________________________________________________\n",
            "activation_219 (Activation)     (None, 192, 7, 7)    0           batch_normalization_220[0][0]    \n",
            "__________________________________________________________________________________________________\n",
            "activation_222 (Activation)     (None, 192, 7, 7)    0           batch_normalization_223[0][0]    \n",
            "__________________________________________________________________________________________________\n",
            "activation_227 (Activation)     (None, 192, 7, 7)    0           batch_normalization_228[0][0]    \n",
            "__________________________________________________________________________________________________\n",
            "activation_228 (Activation)     (None, 192, 7, 7)    0           batch_normalization_229[0][0]    \n",
            "__________________________________________________________________________________________________\n",
            "mixed4 (Concatenate)            (None, 768, 7, 7)    0           activation_219[0][0]             \n",
            "                                                                 activation_222[0][0]             \n",
            "                                                                 activation_227[0][0]             \n",
            "                                                                 activation_228[0][0]             \n",
            "__________________________________________________________________________________________________\n",
            "conv2d_233 (Conv2D)             (None, 160, 7, 7)    122880      mixed4[0][0]                     \n",
            "__________________________________________________________________________________________________\n",
            "batch_normalization_234 (BatchN (None, 160, 7, 7)    480         conv2d_233[0][0]                 \n",
            "__________________________________________________________________________________________________\n",
            "activation_233 (Activation)     (None, 160, 7, 7)    0           batch_normalization_234[0][0]    \n",
            "__________________________________________________________________________________________________\n",
            "conv2d_234 (Conv2D)             (None, 160, 7, 7)    179200      activation_233[0][0]             \n",
            "__________________________________________________________________________________________________\n",
            "batch_normalization_235 (BatchN (None, 160, 7, 7)    480         conv2d_234[0][0]                 \n",
            "__________________________________________________________________________________________________\n",
            "activation_234 (Activation)     (None, 160, 7, 7)    0           batch_normalization_235[0][0]    \n",
            "__________________________________________________________________________________________________\n",
            "conv2d_230 (Conv2D)             (None, 160, 7, 7)    122880      mixed4[0][0]                     \n",
            "__________________________________________________________________________________________________\n",
            "conv2d_235 (Conv2D)             (None, 160, 7, 7)    179200      activation_234[0][0]             \n",
            "__________________________________________________________________________________________________\n",
            "batch_normalization_231 (BatchN (None, 160, 7, 7)    480         conv2d_230[0][0]                 \n",
            "__________________________________________________________________________________________________\n",
            "batch_normalization_236 (BatchN (None, 160, 7, 7)    480         conv2d_235[0][0]                 \n",
            "__________________________________________________________________________________________________\n",
            "activation_230 (Activation)     (None, 160, 7, 7)    0           batch_normalization_231[0][0]    \n",
            "__________________________________________________________________________________________________\n",
            "activation_235 (Activation)     (None, 160, 7, 7)    0           batch_normalization_236[0][0]    \n",
            "__________________________________________________________________________________________________\n",
            "conv2d_231 (Conv2D)             (None, 160, 7, 7)    179200      activation_230[0][0]             \n",
            "__________________________________________________________________________________________________\n",
            "conv2d_236 (Conv2D)             (None, 160, 7, 7)    179200      activation_235[0][0]             \n",
            "__________________________________________________________________________________________________\n",
            "batch_normalization_232 (BatchN (None, 160, 7, 7)    480         conv2d_231[0][0]                 \n",
            "__________________________________________________________________________________________________\n",
            "batch_normalization_237 (BatchN (None, 160, 7, 7)    480         conv2d_236[0][0]                 \n",
            "__________________________________________________________________________________________________\n",
            "activation_231 (Activation)     (None, 160, 7, 7)    0           batch_normalization_232[0][0]    \n",
            "__________________________________________________________________________________________________\n",
            "activation_236 (Activation)     (None, 160, 7, 7)    0           batch_normalization_237[0][0]    \n",
            "__________________________________________________________________________________________________\n",
            "average_pooling2d_23 (AveragePo (None, 768, 7, 7)    0           mixed4[0][0]                     \n",
            "__________________________________________________________________________________________________\n",
            "conv2d_229 (Conv2D)             (None, 192, 7, 7)    147456      mixed4[0][0]                     \n",
            "__________________________________________________________________________________________________\n",
            "conv2d_232 (Conv2D)             (None, 192, 7, 7)    215040      activation_231[0][0]             \n",
            "__________________________________________________________________________________________________\n",
            "conv2d_237 (Conv2D)             (None, 192, 7, 7)    215040      activation_236[0][0]             \n",
            "__________________________________________________________________________________________________\n",
            "conv2d_238 (Conv2D)             (None, 192, 7, 7)    147456      average_pooling2d_23[0][0]       \n",
            "__________________________________________________________________________________________________\n",
            "batch_normalization_230 (BatchN (None, 192, 7, 7)    576         conv2d_229[0][0]                 \n",
            "__________________________________________________________________________________________________\n",
            "batch_normalization_233 (BatchN (None, 192, 7, 7)    576         conv2d_232[0][0]                 \n",
            "__________________________________________________________________________________________________\n",
            "batch_normalization_238 (BatchN (None, 192, 7, 7)    576         conv2d_237[0][0]                 \n",
            "__________________________________________________________________________________________________\n",
            "batch_normalization_239 (BatchN (None, 192, 7, 7)    576         conv2d_238[0][0]                 \n",
            "__________________________________________________________________________________________________\n",
            "activation_229 (Activation)     (None, 192, 7, 7)    0           batch_normalization_230[0][0]    \n",
            "__________________________________________________________________________________________________\n",
            "activation_232 (Activation)     (None, 192, 7, 7)    0           batch_normalization_233[0][0]    \n",
            "__________________________________________________________________________________________________\n",
            "activation_237 (Activation)     (None, 192, 7, 7)    0           batch_normalization_238[0][0]    \n",
            "__________________________________________________________________________________________________\n",
            "activation_238 (Activation)     (None, 192, 7, 7)    0           batch_normalization_239[0][0]    \n",
            "__________________________________________________________________________________________________\n",
            "mixed5 (Concatenate)            (None, 768, 7, 7)    0           activation_229[0][0]             \n",
            "                                                                 activation_232[0][0]             \n",
            "                                                                 activation_237[0][0]             \n",
            "                                                                 activation_238[0][0]             \n",
            "__________________________________________________________________________________________________\n",
            "conv2d_243 (Conv2D)             (None, 160, 7, 7)    122880      mixed5[0][0]                     \n",
            "__________________________________________________________________________________________________\n",
            "batch_normalization_244 (BatchN (None, 160, 7, 7)    480         conv2d_243[0][0]                 \n",
            "__________________________________________________________________________________________________\n",
            "activation_243 (Activation)     (None, 160, 7, 7)    0           batch_normalization_244[0][0]    \n",
            "__________________________________________________________________________________________________\n",
            "conv2d_244 (Conv2D)             (None, 160, 7, 7)    179200      activation_243[0][0]             \n",
            "__________________________________________________________________________________________________\n",
            "batch_normalization_245 (BatchN (None, 160, 7, 7)    480         conv2d_244[0][0]                 \n",
            "__________________________________________________________________________________________________\n",
            "activation_244 (Activation)     (None, 160, 7, 7)    0           batch_normalization_245[0][0]    \n",
            "__________________________________________________________________________________________________\n",
            "conv2d_240 (Conv2D)             (None, 160, 7, 7)    122880      mixed5[0][0]                     \n",
            "__________________________________________________________________________________________________\n",
            "conv2d_245 (Conv2D)             (None, 160, 7, 7)    179200      activation_244[0][0]             \n",
            "__________________________________________________________________________________________________\n",
            "batch_normalization_241 (BatchN (None, 160, 7, 7)    480         conv2d_240[0][0]                 \n",
            "__________________________________________________________________________________________________\n",
            "batch_normalization_246 (BatchN (None, 160, 7, 7)    480         conv2d_245[0][0]                 \n",
            "__________________________________________________________________________________________________\n",
            "activation_240 (Activation)     (None, 160, 7, 7)    0           batch_normalization_241[0][0]    \n",
            "__________________________________________________________________________________________________\n",
            "activation_245 (Activation)     (None, 160, 7, 7)    0           batch_normalization_246[0][0]    \n",
            "__________________________________________________________________________________________________\n",
            "conv2d_241 (Conv2D)             (None, 160, 7, 7)    179200      activation_240[0][0]             \n",
            "__________________________________________________________________________________________________\n",
            "conv2d_246 (Conv2D)             (None, 160, 7, 7)    179200      activation_245[0][0]             \n",
            "__________________________________________________________________________________________________\n",
            "batch_normalization_242 (BatchN (None, 160, 7, 7)    480         conv2d_241[0][0]                 \n",
            "__________________________________________________________________________________________________\n",
            "batch_normalization_247 (BatchN (None, 160, 7, 7)    480         conv2d_246[0][0]                 \n",
            "__________________________________________________________________________________________________\n",
            "activation_241 (Activation)     (None, 160, 7, 7)    0           batch_normalization_242[0][0]    \n",
            "__________________________________________________________________________________________________\n",
            "activation_246 (Activation)     (None, 160, 7, 7)    0           batch_normalization_247[0][0]    \n",
            "__________________________________________________________________________________________________\n",
            "average_pooling2d_24 (AveragePo (None, 768, 7, 7)    0           mixed5[0][0]                     \n",
            "__________________________________________________________________________________________________\n",
            "conv2d_239 (Conv2D)             (None, 192, 7, 7)    147456      mixed5[0][0]                     \n",
            "__________________________________________________________________________________________________\n",
            "conv2d_242 (Conv2D)             (None, 192, 7, 7)    215040      activation_241[0][0]             \n",
            "__________________________________________________________________________________________________\n",
            "conv2d_247 (Conv2D)             (None, 192, 7, 7)    215040      activation_246[0][0]             \n",
            "__________________________________________________________________________________________________\n",
            "conv2d_248 (Conv2D)             (None, 192, 7, 7)    147456      average_pooling2d_24[0][0]       \n",
            "__________________________________________________________________________________________________\n",
            "batch_normalization_240 (BatchN (None, 192, 7, 7)    576         conv2d_239[0][0]                 \n",
            "__________________________________________________________________________________________________\n",
            "batch_normalization_243 (BatchN (None, 192, 7, 7)    576         conv2d_242[0][0]                 \n",
            "__________________________________________________________________________________________________\n",
            "batch_normalization_248 (BatchN (None, 192, 7, 7)    576         conv2d_247[0][0]                 \n",
            "__________________________________________________________________________________________________\n",
            "batch_normalization_249 (BatchN (None, 192, 7, 7)    576         conv2d_248[0][0]                 \n",
            "__________________________________________________________________________________________________\n",
            "activation_239 (Activation)     (None, 192, 7, 7)    0           batch_normalization_240[0][0]    \n",
            "__________________________________________________________________________________________________\n",
            "activation_242 (Activation)     (None, 192, 7, 7)    0           batch_normalization_243[0][0]    \n",
            "__________________________________________________________________________________________________\n",
            "activation_247 (Activation)     (None, 192, 7, 7)    0           batch_normalization_248[0][0]    \n",
            "__________________________________________________________________________________________________\n",
            "activation_248 (Activation)     (None, 192, 7, 7)    0           batch_normalization_249[0][0]    \n",
            "__________________________________________________________________________________________________\n",
            "mixed6 (Concatenate)            (None, 768, 7, 7)    0           activation_239[0][0]             \n",
            "                                                                 activation_242[0][0]             \n",
            "                                                                 activation_247[0][0]             \n",
            "                                                                 activation_248[0][0]             \n",
            "__________________________________________________________________________________________________\n",
            "conv2d_253 (Conv2D)             (None, 192, 7, 7)    147456      mixed6[0][0]                     \n",
            "__________________________________________________________________________________________________\n",
            "batch_normalization_254 (BatchN (None, 192, 7, 7)    576         conv2d_253[0][0]                 \n",
            "__________________________________________________________________________________________________\n",
            "activation_253 (Activation)     (None, 192, 7, 7)    0           batch_normalization_254[0][0]    \n",
            "__________________________________________________________________________________________________\n",
            "conv2d_254 (Conv2D)             (None, 192, 7, 7)    258048      activation_253[0][0]             \n",
            "__________________________________________________________________________________________________\n",
            "batch_normalization_255 (BatchN (None, 192, 7, 7)    576         conv2d_254[0][0]                 \n",
            "__________________________________________________________________________________________________\n",
            "activation_254 (Activation)     (None, 192, 7, 7)    0           batch_normalization_255[0][0]    \n",
            "__________________________________________________________________________________________________\n",
            "conv2d_250 (Conv2D)             (None, 192, 7, 7)    147456      mixed6[0][0]                     \n",
            "__________________________________________________________________________________________________\n",
            "conv2d_255 (Conv2D)             (None, 192, 7, 7)    258048      activation_254[0][0]             \n",
            "__________________________________________________________________________________________________\n",
            "batch_normalization_251 (BatchN (None, 192, 7, 7)    576         conv2d_250[0][0]                 \n",
            "__________________________________________________________________________________________________\n",
            "batch_normalization_256 (BatchN (None, 192, 7, 7)    576         conv2d_255[0][0]                 \n",
            "__________________________________________________________________________________________________\n",
            "activation_250 (Activation)     (None, 192, 7, 7)    0           batch_normalization_251[0][0]    \n",
            "__________________________________________________________________________________________________\n",
            "activation_255 (Activation)     (None, 192, 7, 7)    0           batch_normalization_256[0][0]    \n",
            "__________________________________________________________________________________________________\n",
            "conv2d_251 (Conv2D)             (None, 192, 7, 7)    258048      activation_250[0][0]             \n",
            "__________________________________________________________________________________________________\n",
            "conv2d_256 (Conv2D)             (None, 192, 7, 7)    258048      activation_255[0][0]             \n",
            "__________________________________________________________________________________________________\n",
            "batch_normalization_252 (BatchN (None, 192, 7, 7)    576         conv2d_251[0][0]                 \n",
            "__________________________________________________________________________________________________\n",
            "batch_normalization_257 (BatchN (None, 192, 7, 7)    576         conv2d_256[0][0]                 \n",
            "__________________________________________________________________________________________________\n",
            "activation_251 (Activation)     (None, 192, 7, 7)    0           batch_normalization_252[0][0]    \n",
            "__________________________________________________________________________________________________\n",
            "activation_256 (Activation)     (None, 192, 7, 7)    0           batch_normalization_257[0][0]    \n",
            "__________________________________________________________________________________________________\n",
            "average_pooling2d_25 (AveragePo (None, 768, 7, 7)    0           mixed6[0][0]                     \n",
            "__________________________________________________________________________________________________\n",
            "conv2d_249 (Conv2D)             (None, 192, 7, 7)    147456      mixed6[0][0]                     \n",
            "__________________________________________________________________________________________________\n",
            "conv2d_252 (Conv2D)             (None, 192, 7, 7)    258048      activation_251[0][0]             \n",
            "__________________________________________________________________________________________________\n",
            "conv2d_257 (Conv2D)             (None, 192, 7, 7)    258048      activation_256[0][0]             \n",
            "__________________________________________________________________________________________________\n",
            "conv2d_258 (Conv2D)             (None, 192, 7, 7)    147456      average_pooling2d_25[0][0]       \n",
            "__________________________________________________________________________________________________\n",
            "batch_normalization_250 (BatchN (None, 192, 7, 7)    576         conv2d_249[0][0]                 \n",
            "__________________________________________________________________________________________________\n",
            "batch_normalization_253 (BatchN (None, 192, 7, 7)    576         conv2d_252[0][0]                 \n",
            "__________________________________________________________________________________________________\n",
            "batch_normalization_258 (BatchN (None, 192, 7, 7)    576         conv2d_257[0][0]                 \n",
            "__________________________________________________________________________________________________\n",
            "batch_normalization_259 (BatchN (None, 192, 7, 7)    576         conv2d_258[0][0]                 \n",
            "__________________________________________________________________________________________________\n",
            "activation_249 (Activation)     (None, 192, 7, 7)    0           batch_normalization_250[0][0]    \n",
            "__________________________________________________________________________________________________\n",
            "activation_252 (Activation)     (None, 192, 7, 7)    0           batch_normalization_253[0][0]    \n",
            "__________________________________________________________________________________________________\n",
            "activation_257 (Activation)     (None, 192, 7, 7)    0           batch_normalization_258[0][0]    \n",
            "__________________________________________________________________________________________________\n",
            "activation_258 (Activation)     (None, 192, 7, 7)    0           batch_normalization_259[0][0]    \n",
            "__________________________________________________________________________________________________\n",
            "mixed7 (Concatenate)            (None, 768, 7, 7)    0           activation_249[0][0]             \n",
            "                                                                 activation_252[0][0]             \n",
            "                                                                 activation_257[0][0]             \n",
            "                                                                 activation_258[0][0]             \n",
            "__________________________________________________________________________________________________\n",
            "conv2d_261 (Conv2D)             (None, 192, 7, 7)    147456      mixed7[0][0]                     \n",
            "__________________________________________________________________________________________________\n",
            "batch_normalization_262 (BatchN (None, 192, 7, 7)    576         conv2d_261[0][0]                 \n",
            "__________________________________________________________________________________________________\n",
            "activation_261 (Activation)     (None, 192, 7, 7)    0           batch_normalization_262[0][0]    \n",
            "__________________________________________________________________________________________________\n",
            "conv2d_262 (Conv2D)             (None, 192, 7, 7)    258048      activation_261[0][0]             \n",
            "__________________________________________________________________________________________________\n",
            "batch_normalization_263 (BatchN (None, 192, 7, 7)    576         conv2d_262[0][0]                 \n",
            "__________________________________________________________________________________________________\n",
            "activation_262 (Activation)     (None, 192, 7, 7)    0           batch_normalization_263[0][0]    \n",
            "__________________________________________________________________________________________________\n",
            "conv2d_259 (Conv2D)             (None, 192, 7, 7)    147456      mixed7[0][0]                     \n",
            "__________________________________________________________________________________________________\n",
            "conv2d_263 (Conv2D)             (None, 192, 7, 7)    258048      activation_262[0][0]             \n",
            "__________________________________________________________________________________________________\n",
            "batch_normalization_260 (BatchN (None, 192, 7, 7)    576         conv2d_259[0][0]                 \n",
            "__________________________________________________________________________________________________\n",
            "batch_normalization_264 (BatchN (None, 192, 7, 7)    576         conv2d_263[0][0]                 \n",
            "__________________________________________________________________________________________________\n",
            "activation_259 (Activation)     (None, 192, 7, 7)    0           batch_normalization_260[0][0]    \n",
            "__________________________________________________________________________________________________\n",
            "activation_263 (Activation)     (None, 192, 7, 7)    0           batch_normalization_264[0][0]    \n",
            "__________________________________________________________________________________________________\n",
            "conv2d_260 (Conv2D)             (None, 320, 3, 3)    552960      activation_259[0][0]             \n",
            "__________________________________________________________________________________________________\n",
            "conv2d_264 (Conv2D)             (None, 192, 3, 3)    331776      activation_263[0][0]             \n",
            "__________________________________________________________________________________________________\n",
            "batch_normalization_261 (BatchN (None, 320, 3, 3)    960         conv2d_260[0][0]                 \n",
            "__________________________________________________________________________________________________\n",
            "batch_normalization_265 (BatchN (None, 192, 3, 3)    576         conv2d_264[0][0]                 \n",
            "__________________________________________________________________________________________________\n",
            "activation_260 (Activation)     (None, 320, 3, 3)    0           batch_normalization_261[0][0]    \n",
            "__________________________________________________________________________________________________\n",
            "activation_264 (Activation)     (None, 192, 3, 3)    0           batch_normalization_265[0][0]    \n",
            "__________________________________________________________________________________________________\n",
            "max_pooling2d_12 (MaxPooling2D) (None, 768, 3, 3)    0           mixed7[0][0]                     \n",
            "__________________________________________________________________________________________________\n",
            "mixed8 (Concatenate)            (None, 1280, 3, 3)   0           activation_260[0][0]             \n",
            "                                                                 activation_264[0][0]             \n",
            "                                                                 max_pooling2d_12[0][0]           \n",
            "__________________________________________________________________________________________________\n",
            "conv2d_269 (Conv2D)             (None, 448, 3, 3)    573440      mixed8[0][0]                     \n",
            "__________________________________________________________________________________________________\n",
            "batch_normalization_270 (BatchN (None, 448, 3, 3)    1344        conv2d_269[0][0]                 \n",
            "__________________________________________________________________________________________________\n",
            "activation_269 (Activation)     (None, 448, 3, 3)    0           batch_normalization_270[0][0]    \n",
            "__________________________________________________________________________________________________\n",
            "conv2d_266 (Conv2D)             (None, 384, 3, 3)    491520      mixed8[0][0]                     \n",
            "__________________________________________________________________________________________________\n",
            "conv2d_270 (Conv2D)             (None, 384, 3, 3)    1548288     activation_269[0][0]             \n",
            "__________________________________________________________________________________________________\n",
            "batch_normalization_267 (BatchN (None, 384, 3, 3)    1152        conv2d_266[0][0]                 \n",
            "__________________________________________________________________________________________________\n",
            "batch_normalization_271 (BatchN (None, 384, 3, 3)    1152        conv2d_270[0][0]                 \n",
            "__________________________________________________________________________________________________\n",
            "activation_266 (Activation)     (None, 384, 3, 3)    0           batch_normalization_267[0][0]    \n",
            "__________________________________________________________________________________________________\n",
            "activation_270 (Activation)     (None, 384, 3, 3)    0           batch_normalization_271[0][0]    \n",
            "__________________________________________________________________________________________________\n",
            "conv2d_267 (Conv2D)             (None, 384, 3, 3)    442368      activation_266[0][0]             \n",
            "__________________________________________________________________________________________________\n",
            "conv2d_268 (Conv2D)             (None, 384, 3, 3)    442368      activation_266[0][0]             \n",
            "__________________________________________________________________________________________________\n",
            "conv2d_271 (Conv2D)             (None, 384, 3, 3)    442368      activation_270[0][0]             \n",
            "__________________________________________________________________________________________________\n",
            "conv2d_272 (Conv2D)             (None, 384, 3, 3)    442368      activation_270[0][0]             \n",
            "__________________________________________________________________________________________________\n",
            "average_pooling2d_26 (AveragePo (None, 1280, 3, 3)   0           mixed8[0][0]                     \n",
            "__________________________________________________________________________________________________\n",
            "conv2d_265 (Conv2D)             (None, 320, 3, 3)    409600      mixed8[0][0]                     \n",
            "__________________________________________________________________________________________________\n",
            "batch_normalization_268 (BatchN (None, 384, 3, 3)    1152        conv2d_267[0][0]                 \n",
            "__________________________________________________________________________________________________\n",
            "batch_normalization_269 (BatchN (None, 384, 3, 3)    1152        conv2d_268[0][0]                 \n",
            "__________________________________________________________________________________________________\n",
            "batch_normalization_272 (BatchN (None, 384, 3, 3)    1152        conv2d_271[0][0]                 \n",
            "__________________________________________________________________________________________________\n",
            "batch_normalization_273 (BatchN (None, 384, 3, 3)    1152        conv2d_272[0][0]                 \n",
            "__________________________________________________________________________________________________\n",
            "conv2d_273 (Conv2D)             (None, 192, 3, 3)    245760      average_pooling2d_26[0][0]       \n",
            "__________________________________________________________________________________________________\n",
            "batch_normalization_266 (BatchN (None, 320, 3, 3)    960         conv2d_265[0][0]                 \n",
            "__________________________________________________________________________________________________\n",
            "activation_267 (Activation)     (None, 384, 3, 3)    0           batch_normalization_268[0][0]    \n",
            "__________________________________________________________________________________________________\n",
            "activation_268 (Activation)     (None, 384, 3, 3)    0           batch_normalization_269[0][0]    \n",
            "__________________________________________________________________________________________________\n",
            "activation_271 (Activation)     (None, 384, 3, 3)    0           batch_normalization_272[0][0]    \n",
            "__________________________________________________________________________________________________\n",
            "activation_272 (Activation)     (None, 384, 3, 3)    0           batch_normalization_273[0][0]    \n",
            "__________________________________________________________________________________________________\n",
            "batch_normalization_274 (BatchN (None, 192, 3, 3)    576         conv2d_273[0][0]                 \n",
            "__________________________________________________________________________________________________\n",
            "activation_265 (Activation)     (None, 320, 3, 3)    0           batch_normalization_266[0][0]    \n",
            "__________________________________________________________________________________________________\n",
            "mixed9_0 (Concatenate)          (None, 768, 3, 3)    0           activation_267[0][0]             \n",
            "                                                                 activation_268[0][0]             \n",
            "__________________________________________________________________________________________________\n",
            "concatenate_5 (Concatenate)     (None, 768, 3, 3)    0           activation_271[0][0]             \n",
            "                                                                 activation_272[0][0]             \n",
            "__________________________________________________________________________________________________\n",
            "activation_273 (Activation)     (None, 192, 3, 3)    0           batch_normalization_274[0][0]    \n",
            "__________________________________________________________________________________________________\n",
            "mixed9 (Concatenate)            (None, 2048, 3, 3)   0           activation_265[0][0]             \n",
            "                                                                 mixed9_0[0][0]                   \n",
            "                                                                 concatenate_5[0][0]              \n",
            "                                                                 activation_273[0][0]             \n",
            "__________________________________________________________________________________________________\n",
            "conv2d_278 (Conv2D)             (None, 448, 3, 3)    917504      mixed9[0][0]                     \n",
            "__________________________________________________________________________________________________\n",
            "batch_normalization_279 (BatchN (None, 448, 3, 3)    1344        conv2d_278[0][0]                 \n",
            "__________________________________________________________________________________________________\n",
            "activation_278 (Activation)     (None, 448, 3, 3)    0           batch_normalization_279[0][0]    \n",
            "__________________________________________________________________________________________________\n",
            "conv2d_275 (Conv2D)             (None, 384, 3, 3)    786432      mixed9[0][0]                     \n",
            "__________________________________________________________________________________________________\n",
            "conv2d_279 (Conv2D)             (None, 384, 3, 3)    1548288     activation_278[0][0]             \n",
            "__________________________________________________________________________________________________\n",
            "batch_normalization_276 (BatchN (None, 384, 3, 3)    1152        conv2d_275[0][0]                 \n",
            "__________________________________________________________________________________________________\n",
            "batch_normalization_280 (BatchN (None, 384, 3, 3)    1152        conv2d_279[0][0]                 \n",
            "__________________________________________________________________________________________________\n",
            "activation_275 (Activation)     (None, 384, 3, 3)    0           batch_normalization_276[0][0]    \n",
            "__________________________________________________________________________________________________\n",
            "activation_279 (Activation)     (None, 384, 3, 3)    0           batch_normalization_280[0][0]    \n",
            "__________________________________________________________________________________________________\n",
            "conv2d_276 (Conv2D)             (None, 384, 3, 3)    442368      activation_275[0][0]             \n",
            "__________________________________________________________________________________________________\n",
            "conv2d_277 (Conv2D)             (None, 384, 3, 3)    442368      activation_275[0][0]             \n",
            "__________________________________________________________________________________________________\n",
            "conv2d_280 (Conv2D)             (None, 384, 3, 3)    442368      activation_279[0][0]             \n",
            "__________________________________________________________________________________________________\n",
            "conv2d_281 (Conv2D)             (None, 384, 3, 3)    442368      activation_279[0][0]             \n",
            "__________________________________________________________________________________________________\n",
            "average_pooling2d_27 (AveragePo (None, 2048, 3, 3)   0           mixed9[0][0]                     \n",
            "__________________________________________________________________________________________________\n",
            "conv2d_274 (Conv2D)             (None, 320, 3, 3)    655360      mixed9[0][0]                     \n",
            "__________________________________________________________________________________________________\n",
            "batch_normalization_277 (BatchN (None, 384, 3, 3)    1152        conv2d_276[0][0]                 \n",
            "__________________________________________________________________________________________________\n",
            "batch_normalization_278 (BatchN (None, 384, 3, 3)    1152        conv2d_277[0][0]                 \n",
            "__________________________________________________________________________________________________\n",
            "batch_normalization_281 (BatchN (None, 384, 3, 3)    1152        conv2d_280[0][0]                 \n",
            "__________________________________________________________________________________________________\n",
            "batch_normalization_282 (BatchN (None, 384, 3, 3)    1152        conv2d_281[0][0]                 \n",
            "__________________________________________________________________________________________________\n",
            "conv2d_282 (Conv2D)             (None, 192, 3, 3)    393216      average_pooling2d_27[0][0]       \n",
            "__________________________________________________________________________________________________\n",
            "batch_normalization_275 (BatchN (None, 320, 3, 3)    960         conv2d_274[0][0]                 \n",
            "__________________________________________________________________________________________________\n",
            "activation_276 (Activation)     (None, 384, 3, 3)    0           batch_normalization_277[0][0]    \n",
            "__________________________________________________________________________________________________\n",
            "activation_277 (Activation)     (None, 384, 3, 3)    0           batch_normalization_278[0][0]    \n",
            "__________________________________________________________________________________________________\n",
            "activation_280 (Activation)     (None, 384, 3, 3)    0           batch_normalization_281[0][0]    \n",
            "__________________________________________________________________________________________________\n",
            "activation_281 (Activation)     (None, 384, 3, 3)    0           batch_normalization_282[0][0]    \n",
            "__________________________________________________________________________________________________\n",
            "batch_normalization_283 (BatchN (None, 192, 3, 3)    576         conv2d_282[0][0]                 \n",
            "__________________________________________________________________________________________________\n",
            "activation_274 (Activation)     (None, 320, 3, 3)    0           batch_normalization_275[0][0]    \n",
            "__________________________________________________________________________________________________\n",
            "mixed9_1 (Concatenate)          (None, 768, 3, 3)    0           activation_276[0][0]             \n",
            "                                                                 activation_277[0][0]             \n",
            "__________________________________________________________________________________________________\n",
            "concatenate_6 (Concatenate)     (None, 768, 3, 3)    0           activation_280[0][0]             \n",
            "                                                                 activation_281[0][0]             \n",
            "__________________________________________________________________________________________________\n",
            "activation_282 (Activation)     (None, 192, 3, 3)    0           batch_normalization_283[0][0]    \n",
            "__________________________________________________________________________________________________\n",
            "mixed10 (Concatenate)           (None, 2048, 3, 3)   0           activation_274[0][0]             \n",
            "                                                                 mixed9_1[0][0]                   \n",
            "                                                                 concatenate_6[0][0]              \n",
            "                                                                 activation_282[0][0]             \n",
            "__________________________________________________________________________________________________\n",
            "dropout_2 (Dropout)             (None, 2048, 3, 3)   0           mixed10[0][0]                    \n",
            "__________________________________________________________________________________________________\n",
            "global_average_pooling2d_2 (Glo (None, 2048)         0           dropout_2[0][0]                  \n",
            "__________________________________________________________________________________________________\n",
            "dense_3 (Dense)                 (None, 128)          262272      global_average_pooling2d_2[0][0] \n",
            "__________________________________________________________________________________________________\n",
            "batch_normalization_284 (BatchN (None, 128)          512         dense_3[0][0]                    \n",
            "__________________________________________________________________________________________________\n",
            "dense_4 (Dense)                 (None, 2)            258         batch_normalization_284[0][0]    \n",
            "==================================================================================================\n",
            "Total params: 22,065,826\n",
            "Trainable params: 22,031,138\n",
            "Non-trainable params: 34,688\n",
            "__________________________________________________________________________________________________\n",
            "None\n"
          ],
          "name": "stdout"
        }
      ]
    },
    {
      "cell_type": "code",
      "metadata": {
        "id": "sijgxEdyJrnZ",
        "colab_type": "code",
        "colab": {
          "base_uri": "https://localhost:8080/",
          "height": 1000
        },
        "outputId": "0d6bf219-bd1a-478f-bf8c-9f6d8f8af206"
      },
      "source": [
        "# Se realiza el entrenamiento\n",
        "history = model.fit(X_train, y_train, validation_data = (X_test , y_test) ,callbacks=[lr_reduce,checkpoint] ,\n",
        "          epochs=epochs)"
      ],
      "execution_count": 51,
      "outputs": [
        {
          "output_type": "stream",
          "text": [
            "WARNING:tensorflow:From /usr/local/lib/python3.6/dist-packages/tensorflow/python/ops/math_grad.py:1250: add_dispatch_support.<locals>.wrapper (from tensorflow.python.ops.array_ops) is deprecated and will be removed in a future version.\n",
            "Instructions for updating:\n",
            "Use tf.where in 2.0, which has the same broadcast rule as np.where\n",
            "Train on 5129 samples, validate on 624 samples\n",
            "Epoch 1/10\n",
            "5129/5129 [==============================] - 1334s 260ms/step - loss: 0.3184 - acc: 0.8491 - val_loss: 0.4420 - val_acc: 0.8253\n",
            "\n",
            "Epoch 00001: val_acc improved from -inf to 0.82532, saving model to transferlearning_weights.hdf5\n",
            "Epoch 2/10\n",
            "5129/5129 [==============================] - 1300s 253ms/step - loss: 0.1863 - acc: 0.9082 - val_loss: 1.6371 - val_acc: 0.6779\n",
            "\n",
            "Epoch 00002: ReduceLROnPlateau reducing learning rate to 0.00010000000474974513.\n",
            "\n",
            "Epoch 00002: val_acc did not improve from 0.82532\n",
            "Epoch 3/10\n",
            "5129/5129 [==============================] - 1307s 255ms/step - loss: 0.1579 - acc: 0.9308 - val_loss: 0.6637 - val_acc: 0.7468\n",
            "\n",
            "Epoch 00003: ReduceLROnPlateau reducing learning rate to 1.0000000474974514e-05.\n",
            "\n",
            "Epoch 00003: val_acc did not improve from 0.82532\n",
            "Epoch 4/10\n",
            "5129/5129 [==============================] - 1327s 259ms/step - loss: 0.1208 - acc: 0.9366 - val_loss: 0.6393 - val_acc: 0.7756\n",
            "\n",
            "Epoch 00004: ReduceLROnPlateau reducing learning rate to 1.0000000656873453e-06.\n",
            "\n",
            "Epoch 00004: val_acc did not improve from 0.82532\n",
            "Epoch 5/10\n",
            "5129/5129 [==============================] - 1314s 256ms/step - loss: 0.1278 - acc: 0.9331 - val_loss: 0.6472 - val_acc: 0.7821\n",
            "\n",
            "Epoch 00005: ReduceLROnPlateau reducing learning rate to 1.0000001111620805e-07.\n",
            "\n",
            "Epoch 00005: val_acc did not improve from 0.82532\n",
            "Epoch 6/10\n",
            "5129/5129 [==============================] - 1315s 256ms/step - loss: 0.1126 - acc: 0.9407 - val_loss: 0.6556 - val_acc: 0.7821\n",
            "\n",
            "Epoch 00006: ReduceLROnPlateau reducing learning rate to 1.000000082740371e-08.\n",
            "\n",
            "Epoch 00006: val_acc did not improve from 0.82532\n",
            "Epoch 7/10\n",
            "5129/5129 [==============================] - 1333s 260ms/step - loss: 0.1154 - acc: 0.9370 - val_loss: 0.6540 - val_acc: 0.7869\n",
            "\n",
            "Epoch 00007: ReduceLROnPlateau reducing learning rate to 1.000000082740371e-09.\n",
            "\n",
            "Epoch 00007: val_acc did not improve from 0.82532\n",
            "Epoch 8/10\n",
            "5129/5129 [==============================] - 1340s 261ms/step - loss: 0.1118 - acc: 0.9392 - val_loss: 0.6401 - val_acc: 0.7853\n",
            "\n",
            "Epoch 00008: ReduceLROnPlateau reducing learning rate to 1.000000082740371e-10.\n",
            "\n",
            "Epoch 00008: val_acc did not improve from 0.82532\n",
            "Epoch 9/10\n",
            "5129/5129 [==============================] - 1337s 261ms/step - loss: 0.1272 - acc: 0.9347 - val_loss: 0.6481 - val_acc: 0.7853\n",
            "\n",
            "Epoch 00009: ReduceLROnPlateau reducing learning rate to 1.000000082740371e-11.\n",
            "\n",
            "Epoch 00009: val_acc did not improve from 0.82532\n",
            "Epoch 10/10\n",
            "5129/5129 [==============================] - 1320s 257ms/step - loss: 0.1204 - acc: 0.9366 - val_loss: 0.6532 - val_acc: 0.7837\n",
            "\n",
            "Epoch 00010: ReduceLROnPlateau reducing learning rate to 1.000000082740371e-12.\n",
            "\n",
            "Epoch 00010: val_acc did not improve from 0.82532\n"
          ],
          "name": "stdout"
        }
      ]
    },
    {
      "cell_type": "code",
      "metadata": {
        "id": "rhJvRSCZdDYJ",
        "colab_type": "code",
        "colab": {}
      },
      "source": [
        " # Guarda el entrenamiento para ejecutarlo cuando proceda\n",
        " model.save(\"/content/drive/My Drive/Colab Notebooks/data_x_ray/ModeloInceptionV3XRay\")"
      ],
      "execution_count": 0,
      "outputs": []
    },
    {
      "cell_type": "code",
      "metadata": {
        "id": "f965ooqoNY6Y",
        "colab_type": "code",
        "colab": {}
      },
      "source": [
        "RESULTADOS = model.predict(X_test, batch_size=64)"
      ],
      "execution_count": 0,
      "outputs": []
    },
    {
      "cell_type": "code",
      "metadata": {
        "id": "hFeNVhLBNm_Y",
        "colab_type": "code",
        "colab": {}
      },
      "source": [
        "labelNames = [\"PNEUMONIA\",\"NORMAL\"]"
      ],
      "execution_count": 0,
      "outputs": []
    },
    {
      "cell_type": "code",
      "metadata": {
        "id": "Lkg48f7xayVN",
        "colab_type": "code",
        "colab": {}
      },
      "source": [
        "# Selecciona imagen CON PNEUMONIA y se lee con OPENCV\n",
        "img_path = \"/content/drive/My Drive/Colab Notebooks/data_x_ray/val/PNEUMONIA/person1952_bacteria_4883.jpeg\" # Path de Drive donde tengo la imagen (incluido el nombre de la misma) #(X)\n",
        "img_test = cv2.imread(img_path, cv2.IMREAD_COLOR) # Leo imagen con OPENCV\n"
      ],
      "execution_count": 0,
      "outputs": []
    },
    {
      "cell_type": "code",
      "metadata": {
        "id": "Vr0jKv3_by5O",
        "colab_type": "code",
        "colab": {
          "base_uri": "https://localhost:8080/",
          "height": 314
        },
        "outputId": "7d2dcfbe-b853-4703-b1f3-8f7d0158754a"
      },
      "source": [
        "print(img_test.shape)\n",
        "plt.imshow(img_test)\n",
        "plt.title('my picture')\n",
        "plt.show()\n",
        "\n",
        "# Pre-procesamos tal y como he hecho para la fase de entrenamiento con las muestras de CIFAR10\n",
        "img_test = img_test.astype(\"float\") / 255.0 #(X)\n",
        "# Re-escalamos la imagen al tamaño con el que fue entrenada la red (comando cv2.resize)\n",
        "img_test_res = cv2.resize(img_test, (150, 150)) #(X)\n",
        "#print(img_test_res.shape)\n",
        "# Se añade una nueva dimension\n",
        "img_test_res = np.moveaxis(img_test_res, -1, 0)\n",
        "img_test_res = np.expand_dims(img_test_res, axis=0)\n",
        "# Realizamos la prediccion y enseñamos por pantalla el resultado más grande\n",
        "predi = model.predict(img_test_res)\n",
        "idx = np.argmax(predi)\n",
        "label = \"Predicción: {} - Confianza: {:.2f}% \".format(labelNames[idx], predi[0][idx] * 100)\n",
        "\n",
        "print(label)\n",
        "\n",
        "# Predecimos la imagen pasando como parámetros a la función predict_image: la imagen, el modelo y string con el GT\n",
        "#predict_image(img_test_res, model, \"Normal\")#(X)"
      ],
      "execution_count": 127,
      "outputs": [
        {
          "output_type": "stream",
          "text": [
            "(952, 1192, 3)\n"
          ],
          "name": "stdout"
        },
        {
          "output_type": "display_data",
          "data": {
            "image/png": "[encoded data removed]",
            "text/plain": [
              "<Figure size 432x288 with 1 Axes>"
            ]
          },
          "metadata": {
            "tags": []
          }
        },
        {
          "output_type": "stream",
          "text": [
            "Predicción: PNEUMONIA - Confianza: 100.00% \n"
          ],
          "name": "stdout"
        }
      ]
    },
    {
      "cell_type": "code",
      "metadata": {
        "id": "ke4UfqY_ZfXj",
        "colab_type": "code",
        "colab": {}
      },
      "source": [
        "# Selecciona imagen NORMAL y se lee con OPENCV\n",
        "img_path2 = \"/content/drive/My Drive/Colab Notebooks/data_x_ray/val/NORMAL/NORMAL2-IM-1430-0001.jpeg\" # Path de Drive donde tengo la imagen (incluido el nombre de la misma) #(X)\n",
        "img_test2 = cv2.imread(img_path2, cv2.IMREAD_COLOR) # Leo imagen con OPENCV"
      ],
      "execution_count": 0,
      "outputs": []
    },
    {
      "cell_type": "code",
      "metadata": {
        "id": "M8MRFcVeZicZ",
        "colab_type": "code",
        "colab": {
          "base_uri": "https://localhost:8080/",
          "height": 314
        },
        "outputId": "86d1d2ea-518c-4e74-c5ed-05ce4d248405"
      },
      "source": [
        "print(img_test2.shape)\n",
        "plt.imshow(img_test2)\n",
        "plt.title('my picture')\n",
        "plt.show()\n",
        "\n",
        "# Pre-procesamos tal y como he hecho para la fase de entrenamiento con las muestras de CIFAR10\n",
        "img_test2 = img_test2.astype(\"float\") / 255.0 #(X)\n",
        "# Re-escalamos la imagen al tamaño con el que fue entrenada la red (comando cv2.resize)\n",
        "img_test2_res = cv2.resize(img_test2, (150, 150)) #(X)\n",
        "# Se añade una nueva dimension\n",
        "img_test2_res = np.moveaxis(img_test2_res, -1, 0)\n",
        "img_test2_res = np.expand_dims(img_test2_res, axis=0)\n",
        "# Realizamos la prediccion y enseñamos por pantalla el resultado más grande\n",
        "predi2 = model.predict(img_test2_res)\n",
        "idx = np.argmax(predi2)\n",
        "label = \"Predicción: {} - Confianza: {:.2f}% \".format(labelNames[idx], predi2[0][idx] * 100)\n",
        "\n",
        "print(label)\n",
        "\n",
        "# Predecimos la imagen pasando como parámetros a la función predict_image: la imagen, el modelo y string con el GT\n",
        "#predict_image(img_test_res, model, \"Normal\")#(X)"
      ],
      "execution_count": 129,
      "outputs": [
        {
          "output_type": "stream",
          "text": [
            "(1040, 1272, 3)\n"
          ],
          "name": "stdout"
        },
        {
          "output_type": "display_data",
          "data": {
            "image/png": "[encoded data removed]",
            "text/plain": [
              "<Figure size 432x288 with 1 Axes>"
            ]
          },
          "metadata": {
            "tags": []
          }
        },
        {
          "output_type": "stream",
          "text": [
            "Predicción: NORMAL - Confianza: 72.38% \n"
          ],
          "name": "stdout"
        }
      ]
    }
  ]
}